{
 "cells": [
  {
   "cell_type": "markdown",
   "metadata": {
    "application/vnd.databricks.v1+cell": {
     "cellMetadata": {},
     "inputWidgets": {},
     "nuid": "a771088c-cf9a-45ee-8f24-d8ee1b05f09f",
     "showTitle": false,
     "tableResultSettingsMap": {},
     "title": ""
    }
   },
   "source": [
    "### Transform Customers Data\n",
    "1. remove records with NULL customer id\n",
    "2. remove duplicate records\n",
    "3. remove duplicates based on created_timestamp\n",
    "4. CAST the column values to correct data type\n",
    "5. write data to delta table"
   ]
  },
  {
   "cell_type": "markdown",
   "metadata": {
    "application/vnd.databricks.v1+cell": {
     "cellMetadata": {},
     "inputWidgets": {},
     "nuid": "361e83dc-062c-493a-a6eb-da0d278e4722",
     "showTitle": false,
     "tableResultSettingsMap": {},
     "title": ""
    }
   },
   "source": [
    "###Remove records with NULL customer id"
   ]
  },
  {
   "cell_type": "code",
   "execution_count": 0,
   "metadata": {
    "application/vnd.databricks.v1+cell": {
     "cellMetadata": {
      "byteLimit": 2048000,
      "implicitDf": true,
      "rowLimit": 10000
     },
     "inputWidgets": {},
     "nuid": "ff6fbfed-7a10-48f9-b3d9-c3b850d2d164",
     "showTitle": false,
     "tableResultSettingsMap": {},
     "title": ""
    }
   },
   "outputs": [],
   "source": [
    "%sql\n",
    "SELECT *\n",
    "  FROM shoppix.bronze.v_customers\n",
    "WHERE customer_id IS NOT NULL\n",
    "ORDER BY customer_id\n"
   ]
  },
  {
   "cell_type": "markdown",
   "metadata": {
    "application/vnd.databricks.v1+cell": {
     "cellMetadata": {},
     "inputWidgets": {},
     "nuid": "6691df99-854f-4a22-979d-04ae65a228a6",
     "showTitle": false,
     "tableResultSettingsMap": {},
     "title": ""
    }
   },
   "source": [
    "###remove duplicate records"
   ]
  },
  {
   "cell_type": "code",
   "execution_count": 0,
   "metadata": {
    "application/vnd.databricks.v1+cell": {
     "cellMetadata": {
      "byteLimit": 2048000,
      "implicitDf": true,
      "rowLimit": 10000
     },
     "inputWidgets": {},
     "nuid": "dc9f821d-6110-4656-865a-fe26ebbf808b",
     "showTitle": false,
     "tableResultSettingsMap": {},
     "title": ""
    }
   },
   "outputs": [],
   "source": [
    "%sql\n",
    "SELECT DISTINCT *\n",
    "  FROM shoppix.bronze.v_customers\n",
    "WHERE customer_id IS NOT NULL\n",
    "ORDER BY customer_id"
   ]
  },
  {
   "cell_type": "code",
   "execution_count": 0,
   "metadata": {
    "application/vnd.databricks.v1+cell": {
     "cellMetadata": {
      "byteLimit": 2048000,
      "implicitDf": true,
      "rowLimit": 10000
     },
     "inputWidgets": {},
     "nuid": "e2d166a1-07bd-468d-89e6-28d664976b5e",
     "showTitle": false,
     "tableResultSettingsMap": {},
     "title": ""
    }
   },
   "outputs": [],
   "source": [
    "%sql\n",
    "SELECT customer_id,\n",
    "       MAX(created_timestamp),\n",
    "       MAX(customer_name),\n",
    "       MAX(date_of_birth),\n",
    "       MAX(email),\n",
    "       MAX(member_since),\n",
    "       MAX(telephone)\n",
    "  FROM shoppix.bronze.v_customers\n",
    "WHERE customer_id IS NOT NULL\n",
    "GROUP BY customer_id\n",
    "ORDER BY customer_id"
   ]
  },
  {
   "cell_type": "code",
   "execution_count": 0,
   "metadata": {
    "application/vnd.databricks.v1+cell": {
     "cellMetadata": {
      "byteLimit": 2048000,
      "implicitDf": true,
      "rowLimit": 10000
     },
     "inputWidgets": {},
     "nuid": "51b37300-5ae6-4590-ad9e-f085838b058c",
     "showTitle": false,
     "tableResultSettingsMap": {},
     "title": ""
    }
   },
   "outputs": [],
   "source": [
    "%sql\n",
    "CREATE OR REPLACE TEMPORARY VIEW v_customers_distinct\n",
    "AS\n",
    "SELECT DISTINCT *\n",
    "  FROM shoppix.bronze.v_customers\n",
    "WHERE customer_id IS NOT NULL\n",
    "ORDER BY customer_id;"
   ]
  },
  {
   "cell_type": "code",
   "execution_count": 0,
   "metadata": {
    "application/vnd.databricks.v1+cell": {
     "cellMetadata": {
      "byteLimit": 2048000,
      "implicitDf": true,
      "rowLimit": 10000
     },
     "inputWidgets": {},
     "nuid": "37f2358f-df04-4fd3-a9ea-027341e071d7",
     "showTitle": false,
     "tableResultSettingsMap": {},
     "title": ""
    }
   },
   "outputs": [],
   "source": [
    "%sql\n",
    "SELECT customer_id,\n",
    "       MAX(created_timestamp) AS max_created_timestamp\n",
    "  FROM v_customers_distinct\n",
    "GROUP BY customer_id;"
   ]
  },
  {
   "cell_type": "markdown",
   "metadata": {
    "application/vnd.databricks.v1+cell": {
     "cellMetadata": {},
     "inputWidgets": {},
     "nuid": "199247fd-2681-42f1-886a-850fbd52d50b",
     "showTitle": false,
     "tableResultSettingsMap": {},
     "title": ""
    }
   },
   "source": [
    "###remove duplicates based on created_timestamp"
   ]
  },
  {
   "cell_type": "code",
   "execution_count": 0,
   "metadata": {
    "application/vnd.databricks.v1+cell": {
     "cellMetadata": {
      "byteLimit": 2048000,
      "implicitDf": true,
      "rowLimit": 10000
     },
     "inputWidgets": {},
     "nuid": "266392f2-f250-4da1-b0ca-20c683a95eb8",
     "showTitle": false,
     "tableResultSettingsMap": {},
     "title": ""
    }
   },
   "outputs": [],
   "source": [
    "%sql\n",
    "WITH cte_max AS\n",
    "(\n",
    "    SELECT customer_id,\n",
    "    MAX(created_timestamp) AS max_created_timestamp\n",
    "    FROM v_customers_distinct\n",
    "    GROUP BY customer_id\n",
    ")\n",
    "SELECT t.*\n",
    "FROM v_customers_distinct t\n",
    "JOIN cte_max m\n",
    "ON t.customer_id = m.customer_id\n",
    "AND t.created_timestamp = m.max_created_timestamp;\n",
    "\n"
   ]
  },
  {
   "cell_type": "markdown",
   "metadata": {
    "application/vnd.databricks.v1+cell": {
     "cellMetadata": {},
     "inputWidgets": {},
     "nuid": "e9bd1359-0404-4251-8ca5-3c9a9ca7a1c1",
     "showTitle": false,
     "tableResultSettingsMap": {},
     "title": ""
    }
   },
   "source": [
    "###CAST the column values to correct data type"
   ]
  },
  {
   "cell_type": "code",
   "execution_count": 0,
   "metadata": {
    "application/vnd.databricks.v1+cell": {
     "cellMetadata": {
      "byteLimit": 2048000,
      "implicitDf": true,
      "rowLimit": 10000
     },
     "inputWidgets": {},
     "nuid": "16bcbd48-38b1-464d-b261-893dc2b654bf",
     "showTitle": false,
     "tableResultSettingsMap": {},
     "title": ""
    }
   },
   "outputs": [],
   "source": [
    "%sql\n",
    "WITH cte_max AS\n",
    "(\n",
    "  SELECT customer_id,\n",
    "      MAX(created_timestamp) AS max_created_timestamp\n",
    "    FROM v_customers_distinct\n",
    "    GROUP BY customer_id\n",
    ")\n",
    "SELECT CAST(t.created_timestamp AS TIMESTAMP) AS created_timestamp,\n",
    "       t.customer_id,\n",
    "       t.customer_name,\n",
    "       CAST(t.date_of_birth AS DATE) AS date_of_birth,\n",
    "       t.email,\n",
    "       CAST(t.member_since AS DATE) AS member_since,\n",
    "       t.telephone\n",
    "FROM v_customers_distinct t\n",
    "JOIN cte_max m\n",
    "ON t.customer_id = m.customer_id\n",
    "AND t.created_timestamp = m.max_created_timestamp;\n"
   ]
  },
  {
   "cell_type": "markdown",
   "metadata": {
    "application/vnd.databricks.v1+cell": {
     "cellMetadata": {},
     "inputWidgets": {},
     "nuid": "03eaf755-a8c6-4c40-8c4a-fa76cb0023da",
     "showTitle": false,
     "tableResultSettingsMap": {},
     "title": ""
    }
   },
   "source": [
    "###write data to delta table"
   ]
  },
  {
   "cell_type": "code",
   "execution_count": 0,
   "metadata": {
    "application/vnd.databricks.v1+cell": {
     "cellMetadata": {
      "byteLimit": 2048000,
      "implicitDf": true,
      "rowLimit": 10000
     },
     "inputWidgets": {},
     "nuid": "553968fc-e510-4c28-a6cc-3439b40583e6",
     "showTitle": false,
     "tableResultSettingsMap": {},
     "title": ""
    }
   },
   "outputs": [],
   "source": [
    "%sql\n",
    "CREATE TABLE shoppix.silver.customers\n",
    "AS\n",
    "WITH cte_max\n",
    "AS \n",
    "(\n",
    "  SELECT customer_id,\n",
    "      MAX(created_timestamp) AS max_created_timestamp\n",
    "    FROM v_customers_distinct\n",
    "    GROUP BY customer_id\n",
    ")\n",
    "SELECT CAST(t.created_timestamp AS TIMESTAMP) AS created_timestamp,\n",
    "       t.customer_id,\n",
    "       t.customer_name,\n",
    "       CAST(t.date_of_birth AS DATE) AS date_of_birth,\n",
    "       t.email,\n",
    "       CAST(t.member_since AS DATE) AS member_since,\n",
    "       t.telephone\n",
    "FROM v_customers_distinct t\n",
    "JOIN cte_max m\n",
    "ON t.customer_id = m.customer_id\n",
    "AND t.created_timestamp = m.max_created_timestamp;"
   ]
  },
  {
   "cell_type": "code",
   "execution_count": 0,
   "metadata": {
    "application/vnd.databricks.v1+cell": {
     "cellMetadata": {
      "byteLimit": 2048000,
      "implicitDf": true,
      "rowLimit": 10000
     },
     "inputWidgets": {},
     "nuid": "3ca5c1cb-b94a-445b-b085-1e6c894bfc5c",
     "showTitle": false,
     "tableResultSettingsMap": {},
     "title": ""
    }
   },
   "outputs": [],
   "source": [
    "%sql\n",
    "SELECT * FROM shoppix.silver.customers"
   ]
  },
  {
   "cell_type": "markdown",
   "metadata": {
    "application/vnd.databricks.v1+cell": {
     "cellMetadata": {},
     "inputWidgets": {},
     "nuid": "0f6a1e3c-f5d0-4139-8b69-f03f25c2c039",
     "showTitle": false,
     "tableResultSettingsMap": {},
     "title": ""
    }
   },
   "source": []
  },
  {
   "cell_type": "markdown",
   "metadata": {
    "application/vnd.databricks.v1+cell": {
     "cellMetadata": {},
     "inputWidgets": {},
     "nuid": "0c423377-31e7-44fb-b2f6-f38e8a1550d3",
     "showTitle": false,
     "tableResultSettingsMap": {},
     "title": ""
    }
   },
   "source": [
    "###"
   ]
  }
 ],
 "metadata": {
  "application/vnd.databricks.v1+notebook": {
   "computePreferences": null,
   "dashboards": [],
   "environmentMetadata": {
    "base_environment": "",
    "environment_version": "2"
   },
   "inputWidgetPreferences": null,
   "language": "python",
   "notebookMetadata": {
    "mostRecentlyExecutedCommandWithImplicitDF": {
     "commandId": 4599948711622092,
     "dataframes": [
      "_sqldf"
     ]
    },
    "pythonIndentUnit": 4
   },
   "notebookName": "09. Transform Customers data",
   "widgets": {}
  },
  "language_info": {
   "name": "python"
  }
 },
 "nbformat": 4,
 "nbformat_minor": 0
}
