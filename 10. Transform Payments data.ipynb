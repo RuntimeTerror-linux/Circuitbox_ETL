{
 "cells": [
  {
   "cell_type": "markdown",
   "metadata": {
    "application/vnd.databricks.v1+cell": {
     "cellMetadata": {},
     "inputWidgets": {},
     "nuid": "b2d33100-56aa-4bca-93a3-763ecf0f705f",
     "showTitle": false,
     "tableResultSettingsMap": {},
     "title": ""
    }
   },
   "source": [
    "###Transforms Payment Data\n",
    "1. Extract Date and time from time_stamp and create new columns payment_time and payment_date\n",
    "2. map payment_status to contain descriptive values\n",
    " (1 = success, 2 = pending, 3 = cancelled, 4 = failed)\n",
    "3. write transformed data to silver schema"
   ]
  },
  {
   "cell_type": "markdown",
   "metadata": {
    "application/vnd.databricks.v1+cell": {
     "cellMetadata": {},
     "inputWidgets": {},
     "nuid": "91edff43-cb63-47a2-9d5c-aae5e466c317",
     "showTitle": false,
     "tableResultSettingsMap": {},
     "title": ""
    }
   },
   "source": [
    "###1.Extract Date and time from time_stamp and create new columns payment_time and payment_date"
   ]
  },
  {
   "cell_type": "code",
   "execution_count": 0,
   "metadata": {
    "application/vnd.databricks.v1+cell": {
     "cellMetadata": {
      "byteLimit": 2048000,
      "implicitDf": true,
      "rowLimit": 10000
     },
     "inputWidgets": {},
     "nuid": "c633da89-1ac3-492e-afbd-e9cb88c482d4",
     "showTitle": false,
     "tableResultSettingsMap": {},
     "title": ""
    }
   },
   "outputs": [],
   "source": [
    "%sql\n",
    "SELECT payment_id,\n",
    "       order_id,\n",
    "       payment_status,\n",
    "       payment_timestamp,\n",
    "       payment_method\n",
    "  FROM shoppix.bronze.payments\n"
   ]
  },
  {
   "cell_type": "code",
   "execution_count": 0,
   "metadata": {
    "application/vnd.databricks.v1+cell": {
     "cellMetadata": {
      "byteLimit": 2048000,
      "implicitDf": true,
      "rowLimit": 10000
     },
     "inputWidgets": {},
     "nuid": "3f214f49-bdde-4cd2-b8fb-dc65647f7030",
     "showTitle": false,
     "tableResultSettingsMap": {},
     "title": ""
    }
   },
   "outputs": [],
   "source": [
    "%sql\n",
    "SELECT payment_id,\n",
    "       order_id,\n",
    "       payment_status,\n",
    "       payment_timestamp,\n",
    "       CAST(date_format(payment_timestamp,'yyyy-MM-dd') AS DATE) AS date,\n",
    "       date_format(payment_timestamp,'HH:MM:ss') AS time,\n",
    "       payment_method\n",
    "  FROM shoppix.bronze.payments"
   ]
  },
  {
   "cell_type": "markdown",
   "metadata": {
    "application/vnd.databricks.v1+cell": {
     "cellMetadata": {},
     "inputWidgets": {},
     "nuid": "52b7f13c-7047-4634-99f8-b8b1da30a4e6",
     "showTitle": false,
     "tableResultSettingsMap": {},
     "title": ""
    }
   },
   "source": [
    "###map payment_status to contain descriptive values"
   ]
  },
  {
   "cell_type": "code",
   "execution_count": 0,
   "metadata": {
    "application/vnd.databricks.v1+cell": {
     "cellMetadata": {
      "byteLimit": 2048000,
      "implicitDf": true,
      "rowLimit": 10000
     },
     "inputWidgets": {},
     "nuid": "adc019e9-bd46-423c-9b13-b7cde0c6e29a",
     "showTitle": false,
     "tableResultSettingsMap": {},
     "title": ""
    }
   },
   "outputs": [],
   "source": [
    "%sql\n",
    "SELECT payment_id,\n",
    "       order_id,\n",
    "       CASE payment_status\n",
    "       WHEN 1 THEN 'success'\n",
    "       WHEN 2 THEN 'pending'\n",
    "       WHEN 3 THEN 'cancelled'\n",
    "       WHEN 4 THEN 'failed'\n",
    "       END AS payment_status,\n",
    "       CAST(date_format(payment_timestamp,'yyyy-MM-dd') AS DATE) AS date,\n",
    "       date_format(payment_timestamp,'HH:MM:ss') AS time,\n",
    "       payment_method\n",
    "  FROM shoppix.bronze.payments"
   ]
  },
  {
   "cell_type": "markdown",
   "metadata": {
    "application/vnd.databricks.v1+cell": {
     "cellMetadata": {},
     "inputWidgets": {},
     "nuid": "a4c681af-506c-4f9d-877c-6c1ea75a5ef7",
     "showTitle": false,
     "tableResultSettingsMap": {},
     "title": ""
    }
   },
   "source": [
    "###write transformed data to silver schema"
   ]
  },
  {
   "cell_type": "code",
   "execution_count": 0,
   "metadata": {
    "application/vnd.databricks.v1+cell": {
     "cellMetadata": {
      "byteLimit": 2048000,
      "implicitDf": true,
      "rowLimit": 10000
     },
     "inputWidgets": {},
     "nuid": "dc63c2f8-6a32-4927-97d0-ff53d5e9d941",
     "showTitle": false,
     "tableResultSettingsMap": {},
     "title": ""
    }
   },
   "outputs": [],
   "source": [
    "%sql\n",
    "CREATE TABLE shoppix.silver.payments\n",
    "AS\n",
    "SELECT payment_id,\n",
    "       order_id,\n",
    "       CASE payment_status\n",
    "       WHEN 1 THEN 'success'\n",
    "       WHEN 2 THEN 'pending'\n",
    "       WHEN 3 THEN 'cancelled'\n",
    "       WHEN 4 THEN 'failed'\n",
    "       END AS payment_status,\n",
    "       CAST(date_format(payment_timestamp,'yyyy-MM-dd') AS DATE) AS date,\n",
    "       date_format(payment_timestamp,'HH:MM:ss') AS time,\n",
    "       payment_method\n",
    "  FROM shoppix.bronze.payments"
   ]
  },
  {
   "cell_type": "code",
   "execution_count": 0,
   "metadata": {
    "application/vnd.databricks.v1+cell": {
     "cellMetadata": {
      "byteLimit": 2048000,
      "implicitDf": true,
      "rowLimit": 10000
     },
     "inputWidgets": {},
     "nuid": "99b82d0c-e177-4a65-b730-43aa0fdf2b1b",
     "showTitle": false,
     "tableResultSettingsMap": {},
     "title": ""
    }
   },
   "outputs": [],
   "source": [
    "%sql\n",
    "SELECT * FROM shoppix.silver.payments"
   ]
  },
  {
   "cell_type": "markdown",
   "metadata": {
    "application/vnd.databricks.v1+cell": {
     "cellMetadata": {},
     "inputWidgets": {},
     "nuid": "97158d87-1820-4ed2-8c4b-78f79e8cc8ff",
     "showTitle": false,
     "tableResultSettingsMap": {},
     "title": ""
    }
   },
   "source": [
    "###"
   ]
  }
 ],
 "metadata": {
  "application/vnd.databricks.v1+notebook": {
   "computePreferences": null,
   "dashboards": [],
   "environmentMetadata": {
    "base_environment": "",
    "environment_version": "2"
   },
   "inputWidgetPreferences": null,
   "language": "python",
   "notebookMetadata": {
    "mostRecentlyExecutedCommandWithImplicitDF": {
     "commandId": 7840698738898912,
     "dataframes": [
      "_sqldf"
     ]
    },
    "pythonIndentUnit": 4
   },
   "notebookName": "10. Transform Payments data",
   "widgets": {}
  },
  "language_info": {
   "name": "python"
  }
 },
 "nbformat": 4,
 "nbformat_minor": 0
}
