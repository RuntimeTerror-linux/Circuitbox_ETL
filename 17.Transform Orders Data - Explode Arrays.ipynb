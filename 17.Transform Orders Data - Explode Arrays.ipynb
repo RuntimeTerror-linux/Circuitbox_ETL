{
 "cells": [
  {
   "cell_type": "markdown",
   "metadata": {
    "application/vnd.databricks.v1+cell": {
     "cellMetadata": {},
     "inputWidgets": {},
     "nuid": "83608104-5761-4fdd-8713-e12740d76893",
     "showTitle": false,
     "tableResultSettingsMap": {},
     "title": ""
    }
   },
   "source": [
    "#17. Transform Orders Data - Explode Arrays\n",
    "1. Access Element from JSON objects\n",
    "2. deduplicate Array Elements\n",
    "3. Explode Arrays\n",
    "4. Write transformed data to silver schema"
   ]
  },
  {
   "cell_type": "markdown",
   "metadata": {
    "application/vnd.databricks.v1+cell": {
     "cellMetadata": {},
     "inputWidgets": {},
     "nuid": "11fde337-d968-444b-854e-49149f0fac11",
     "showTitle": false,
     "tableResultSettingsMap": {},
     "title": ""
    }
   },
   "source": [
    "###1. Access element from JSON objects"
   ]
  },
  {
   "cell_type": "code",
   "execution_count": 0,
   "metadata": {
    "application/vnd.databricks.v1+cell": {
     "cellMetadata": {
      "byteLimit": 2048000,
      "implicitDf": true,
      "rowLimit": 10000
     },
     "inputWidgets": {},
     "nuid": "c3539acc-7dc0-4a89-a87f-cd01712a4a49",
     "showTitle": false,
     "tableResultSettingsMap": {},
     "title": ""
    }
   },
   "outputs": [],
   "source": [
    "%sql\n",
    "SELECT json_value.order_id,\n",
    "       json_value.order_status,\n",
    "       json_value.payment_method,\n",
    "       json_value.total_amount,\n",
    "       json_value.transaction_timestamp,\n",
    "       json_value.customer_id,\n",
    "       json_value.items\n",
    "FROM shoppix.silver.orders_json"
   ]
  },
  {
   "cell_type": "markdown",
   "metadata": {
    "application/vnd.databricks.v1+cell": {
     "cellMetadata": {},
     "inputWidgets": {},
     "nuid": "3f7c8928-410a-4fb7-9984-6ef56a8b600d",
     "showTitle": false,
     "tableResultSettingsMap": {},
     "title": ""
    }
   },
   "source": [
    "###Deduplicate Array Elements"
   ]
  },
  {
   "cell_type": "code",
   "execution_count": 0,
   "metadata": {
    "application/vnd.databricks.v1+cell": {
     "cellMetadata": {
      "byteLimit": 2048000,
      "implicitDf": true,
      "rowLimit": 10000
     },
     "inputWidgets": {},
     "nuid": "4e64cdda-513a-49a4-b316-1ac278fbb995",
     "showTitle": false,
     "tableResultSettingsMap": {},
     "title": ""
    }
   },
   "outputs": [],
   "source": [
    "%sql\n",
    "SELECT json_value.order_id,\n",
    "       json_value.order_status,\n",
    "       json_value.payment_method,\n",
    "       json_value.total_amount,\n",
    "       json_value.transaction_timestamp,\n",
    "       json_value.customer_id,\n",
    "       array_distinct(json_value.items) AS items\n",
    "FROM shoppix.silver.orders_json"
   ]
  },
  {
   "cell_type": "markdown",
   "metadata": {
    "application/vnd.databricks.v1+cell": {
     "cellMetadata": {},
     "inputWidgets": {},
     "nuid": "679fa140-4a23-4974-90da-4d723ff2f056",
     "showTitle": false,
     "tableResultSettingsMap": {},
     "title": ""
    }
   },
   "source": [
    "###3. Explode Arrays"
   ]
  },
  {
   "cell_type": "code",
   "execution_count": 0,
   "metadata": {
    "application/vnd.databricks.v1+cell": {
     "cellMetadata": {
      "byteLimit": 2048000,
      "implicitDf": true,
      "rowLimit": 10000
     },
     "inputWidgets": {},
     "nuid": "95cd0fc2-1003-4df0-a9cf-e04d315bae43",
     "showTitle": false,
     "tableResultSettingsMap": {},
     "title": ""
    }
   },
   "outputs": [],
   "source": [
    "%sql\n",
    "SELECT json_value.order_id,\n",
    "       json_value.order_status,\n",
    "       json_value.payment_method,\n",
    "       json_value.total_amount,\n",
    "       json_value.transaction_timestamp,\n",
    "       json_value.customer_id,\n",
    "       explode(array_distinct(json_value.items)) AS items\n",
    "FROM shoppix.silver.orders_json"
   ]
  },
  {
   "cell_type": "code",
   "execution_count": 0,
   "metadata": {
    "application/vnd.databricks.v1+cell": {
     "cellMetadata": {
      "byteLimit": 2048000,
      "implicitDf": true,
      "rowLimit": 10000
     },
     "inputWidgets": {},
     "nuid": "cf46bfa4-9c64-471b-a79f-091c9611c930",
     "showTitle": false,
     "tableResultSettingsMap": {},
     "title": ""
    }
   },
   "outputs": [],
   "source": [
    "%sql\n",
    "CREATE OR REPLACE TEMP VIEW tv_orders_exploded\n",
    "AS\n",
    "SELECT json_value.order_id,\n",
    "       json_value.order_status,\n",
    "       json_value.payment_method,\n",
    "       json_value.total_amount,\n",
    "       json_value.transaction_timestamp,\n",
    "       json_value.customer_id,\n",
    "       explode(array_distinct(json_value.items)) AS items\n",
    "FROM shoppix.silver.orders_json\n",
    "       "
   ]
  },
  {
   "cell_type": "code",
   "execution_count": 0,
   "metadata": {
    "application/vnd.databricks.v1+cell": {
     "cellMetadata": {
      "byteLimit": 2048000,
      "implicitDf": true,
      "rowLimit": 10000
     },
     "inputWidgets": {},
     "nuid": "33d55c00-8100-4245-b8ca-30418e1bc955",
     "showTitle": false,
     "tableResultSettingsMap": {},
     "title": ""
    }
   },
   "outputs": [],
   "source": [
    "%sql\n",
    "SELECT order_id,\n",
    "       order_status,\n",
    "       payment_method,\n",
    "       total_amount,\n",
    "       transaction_timestamp,\n",
    "       customer_id,\n",
    "       items.item_id,\n",
    "       items.name,\n",
    "       items.price,\n",
    "       items.quantity,\n",
    "       items.category,\n",
    "       items.details.brand,\n",
    "       items.details.color\n",
    "FROM tv_orders_exploded;\n",
    "       "
   ]
  },
  {
   "cell_type": "markdown",
   "metadata": {
    "application/vnd.databricks.v1+cell": {
     "cellMetadata": {},
     "inputWidgets": {},
     "nuid": "d4ed30c2-317a-4793-b3db-1a25b0a2a0a2",
     "showTitle": false,
     "tableResultSettingsMap": {},
     "title": ""
    }
   },
   "source": [
    "###Write transformed data to silver schema"
   ]
  },
  {
   "cell_type": "code",
   "execution_count": 0,
   "metadata": {
    "application/vnd.databricks.v1+cell": {
     "cellMetadata": {
      "byteLimit": 2048000,
      "implicitDf": true,
      "rowLimit": 10000
     },
     "inputWidgets": {},
     "nuid": "a75cf518-883f-4389-ba15-5adf985d96ce",
     "showTitle": false,
     "tableResultSettingsMap": {},
     "title": ""
    }
   },
   "outputs": [],
   "source": [
    "%sql\n",
    "CREATE TABLE IF NOT EXISTS shoppix.silver.orders\n",
    "AS\n",
    "SELECT order_id,\n",
    "       order_status,\n",
    "       payment_method,\n",
    "       total_amount,\n",
    "       transaction_timestamp,\n",
    "       customer_id,\n",
    "       items.item_id,\n",
    "       items.name,\n",
    "       items.price,\n",
    "       items.quantity,\n",
    "       items.category,\n",
    "       items.details.brand,\n",
    "       items.details.color\n",
    "FROM tv_orders_exploded;"
   ]
  }
 ],
 "metadata": {
  "application/vnd.databricks.v1+notebook": {
   "computePreferences": null,
   "dashboards": [],
   "environmentMetadata": {
    "base_environment": "",
    "environment_version": "2"
   },
   "inputWidgetPreferences": null,
   "language": "python",
   "notebookMetadata": {
    "mostRecentlyExecutedCommandWithImplicitDF": {
     "commandId": 5272281062339567,
     "dataframes": [
      "_sqldf"
     ]
    },
    "pythonIndentUnit": 4
   },
   "notebookName": "17.Transform Orders Data - Explode Arrays",
   "widgets": {}
  },
  "language_info": {
   "name": "python"
  }
 },
 "nbformat": 4,
 "nbformat_minor": 0
}
