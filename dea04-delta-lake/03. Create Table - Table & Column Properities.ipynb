{
 "cells": [
  {
   "cell_type": "markdown",
   "metadata": {
    "application/vnd.databricks.v1+cell": {
     "cellMetadata": {},
     "inputWidgets": {},
     "nuid": "f9f6ac63-117f-4385-87cd-2cf87451df9b",
     "showTitle": false,
     "tableResultSettingsMap": {},
     "title": ""
    }
   },
   "source": [
    "#3. Create table - table & column Properites\n",
    "Demostrate adding table & column properites to the CREATE TABLE statement"
   ]
  },
  {
   "cell_type": "markdown",
   "metadata": {
    "application/vnd.databricks.v1+cell": {
     "cellMetadata": {},
     "inputWidgets": {},
     "nuid": "8679279f-e542-411c-821f-07ab0819438e",
     "showTitle": false,
     "tableResultSettingsMap": {},
     "title": ""
    }
   },
   "source": [
    "###1. Table Properities\n",
    "1.1. COMMENT - allows you to document to purpose of table\n",
    "1.2. TBLPROPERITIES - used to specify to table level metadata or configuration setting"
   ]
  },
  {
   "cell_type": "code",
   "execution_count": 0,
   "metadata": {
    "application/vnd.databricks.v1+cell": {
     "cellMetadata": {
      "byteLimit": 2048000,
      "implicitDf": true,
      "rowLimit": 10000
     },
     "inputWidgets": {},
     "nuid": "30582cd7-149c-4418-b5b2-bbd989c9e68f",
     "showTitle": false,
     "tableResultSettingsMap": {},
     "title": ""
    }
   },
   "outputs": [],
   "source": [
    "%sql\n",
    "DROP TABLE IF EXISTS demo.delta_lake.companies;\n",
    "CREATE TABLE demo.delta_lake.companies (\n",
    "  company_name STRING,\n",
    "  founded_date DATE,\n",
    "  country STRING\n",
    ")\n",
    "COMMENT 'this table contains info about successful tech companies'\n",
    "TBLPROPERTIES ('sensitive'='true','delta.enableDeletionVectors'='false');"
   ]
  },
  {
   "cell_type": "code",
   "execution_count": 0,
   "metadata": {
    "application/vnd.databricks.v1+cell": {
     "cellMetadata": {
      "byteLimit": 2048000,
      "implicitDf": true,
      "rowLimit": 10000
     },
     "inputWidgets": {},
     "nuid": "950d779e-245a-499c-8919-220f39ffe58f",
     "showTitle": false,
     "tableResultSettingsMap": {},
     "title": ""
    }
   },
   "outputs": [],
   "source": [
    "%sql\n",
    "DESC EXTENDED demo.delta_lake.companies;"
   ]
  },
  {
   "cell_type": "markdown",
   "metadata": {
    "application/vnd.databricks.v1+cell": {
     "cellMetadata": {},
     "inputWidgets": {},
     "nuid": "78f4cde3-c382-468a-8ed7-2358f509eef3",
     "showTitle": false,
     "tableResultSettingsMap": {},
     "title": ""
    }
   },
   "source": [
    "###2. COLUMN properites\n",
    "- 2.3. NOT NULL constraint - enforces data integrity and quality ensuring that specific column cannot contain NULL values\n",
    " "
   ]
  },
  {
   "cell_type": "code",
   "execution_count": 0,
   "metadata": {
    "application/vnd.databricks.v1+cell": {
     "cellMetadata": {
      "byteLimit": 2048000,
      "implicitDf": true,
      "rowLimit": 10000
     },
     "inputWidgets": {},
     "nuid": "09fc9189-c69e-40a4-b3cc-aeda2a04b0e5",
     "showTitle": false,
     "tableResultSettingsMap": {},
     "title": ""
    }
   },
   "outputs": [],
   "source": [
    "%sql\n",
    "DROP TABLE IF EXISTS demo.delta_lake.companies;\n",
    "CREATE TABLE demo.delta_lake.companies\n",
    "(company_name STRING NOT NULL,\n",
    "founded_date DATE COMMENT 'day company was founded',\n",
    "country STRING)\n",
    "COMMENT 'this table contains info about successful tech companies'\n",
    "TBLPROPERTIES ('sensitive'='true','delta.enableDeletionVectors'='false');"
   ]
  },
  {
   "cell_type": "code",
   "execution_count": 0,
   "metadata": {
    "application/vnd.databricks.v1+cell": {
     "cellMetadata": {
      "byteLimit": 2048000,
      "implicitDf": true,
      "rowLimit": 10000
     },
     "inputWidgets": {},
     "nuid": "148d9dd7-5208-4fa8-954a-fc4316d71996",
     "showTitle": false,
     "tableResultSettingsMap": {},
     "title": ""
    }
   },
   "outputs": [],
   "source": [
    "%sql\n",
    "DESC EXTENDED demo.delta_lake.companies"
   ]
  },
  {
   "cell_type": "markdown",
   "metadata": {
    "application/vnd.databricks.v1+cell": {
     "cellMetadata": {},
     "inputWidgets": {},
     "nuid": "222f63e0-e795-400d-a6ff-328fe8423b1f",
     "showTitle": false,
     "tableResultSettingsMap": {},
     "title": ""
    }
   },
   "source": [
    "###2. COLUMN PROPERITES\n",
    "- 2.3 generate columns - derived or computed columns, whose values are computed at the time of inserting new column\n",
    "- 2.3.1 generated identity columns - used to generate an identity example primary key\n",
    "- 2.3.2 generated computed columns - "
   ]
  },
  {
   "cell_type": "markdown",
   "metadata": {
    "application/vnd.databricks.v1+cell": {
     "cellMetadata": {},
     "inputWidgets": {},
     "nuid": "60d6397a-e097-4591-a21b-98e49d19522b",
     "showTitle": false,
     "tableResultSettingsMap": {},
     "title": ""
    }
   },
   "source": [
    "###2.3.1 Generated Identity Columns\n",
    "GENERATED {ALWAYS | BY DEFAULT } AS IDENTITY [([START WITH start][INCREMENT BY step])]"
   ]
  },
  {
   "cell_type": "code",
   "execution_count": 0,
   "metadata": {
    "application/vnd.databricks.v1+cell": {
     "cellMetadata": {
      "byteLimit": 2048000,
      "implicitDf": true,
      "rowLimit": 10000
     },
     "inputWidgets": {},
     "nuid": "e5043af3-eca9-4dbc-98d0-51b2c0f3173b",
     "showTitle": false,
     "tableResultSettingsMap": {},
     "title": ""
    }
   },
   "outputs": [],
   "source": [
    "%sql\n",
    "DROP TABLE IF EXISTS demo.delta_lake.companies;\n",
    "CREATE TABLE demo.delta_lake.companies (\n",
    "  company_id BIGINT NOT NULL GENERATED ALWAYS AS IDENTITY (START WITH 1 INCREMENT BY 1),\n",
    "  company_name STRING NOT NULL,\n",
    "  founded_date DATE COMMENT 'the date the company was founded',\n",
    "  country STRING)\n",
    "COMMENT 'this table contains info about successful tech companies'\n",
    "TBLPROPERTIES ('sensitive'='true','delta.enableDeletionVectors'='false');\n",
    "    \n"
   ]
  },
  {
   "cell_type": "code",
   "execution_count": 0,
   "metadata": {
    "application/vnd.databricks.v1+cell": {
     "cellMetadata": {
      "byteLimit": 2048000,
      "implicitDf": true,
      "rowLimit": 10000
     },
     "inputWidgets": {},
     "nuid": "e1375ae1-dfff-4fee-9861-37dd5e990001",
     "showTitle": false,
     "tableResultSettingsMap": {},
     "title": ""
    }
   },
   "outputs": [],
   "source": [
    "%sql\n",
    "INSERT INTO demo.delta_lake.companies\n",
    "(company_name, founded_date, country)\n",
    "VALUES\n",
    "('Airbnb', '2008-08-08', 'USA'),\n",
    "('Dropbox', '2007-07-03', 'USA'),\n",
    "('Slack', '2006-02-24', 'USA'),\n",
    "('Zoom', '2011-03-12', 'USA');\n"
   ]
  },
  {
   "cell_type": "code",
   "execution_count": 0,
   "metadata": {
    "application/vnd.databricks.v1+cell": {
     "cellMetadata": {
      "byteLimit": 2048000,
      "implicitDf": true,
      "rowLimit": 10000
     },
     "inputWidgets": {},
     "nuid": "afd17ce3-0074-4722-a091-aae0b18e52a0",
     "showTitle": false,
     "tableResultSettingsMap": {},
     "title": ""
    }
   },
   "outputs": [],
   "source": [
    "%sql\n",
    "SELECT * FROM demo.delta_lake.companies"
   ]
  },
  {
   "cell_type": "markdown",
   "metadata": {
    "application/vnd.databricks.v1+cell": {
     "cellMetadata": {},
     "inputWidgets": {},
     "nuid": "266739ae-f3fe-4890-b563-305dc4503203",
     "showTitle": false,
     "tableResultSettingsMap": {},
     "title": ""
    }
   },
   "source": [
    "###2.3.2 Generate computed columns\n",
    "- GENERATED ALWAYS AS (_expr_)\n",
    "- _expr_ maybe composed of literals, column identifiers within the table, and determinstic, built-in SQL functions or operators except:\n",
    "\n",
    "- Aggregate functions\n",
    "- Analytical window functions\n",
    "- ranking window functions\n",
    "- table valued functions\n",
    "\n",
    "Also _exp_ must not contain any subquery"
   ]
  },
  {
   "cell_type": "code",
   "execution_count": 0,
   "metadata": {
    "application/vnd.databricks.v1+cell": {
     "cellMetadata": {
      "byteLimit": 2048000,
      "implicitDf": true,
      "rowLimit": 10000
     },
     "inputWidgets": {},
     "nuid": "d412d0ff-7404-41f7-a538-c34cafade9b0",
     "showTitle": false,
     "tableResultSettingsMap": {},
     "title": ""
    }
   },
   "outputs": [],
   "source": [
    "%sql\n",
    "DROP TABLE IF EXISTS demo.delta_lake.companies;\n",
    "CREATE TABLE demo.delta_lake.companies (\n",
    "  company_id BIGINT NOT NULL GENERATED ALWAYS AS IDENTITY (START WITH 1 INCREMENT BY 1),\n",
    "  company_name STRING NOT NULL,\n",
    "  founded_date DATE COMMENT 'the date the company was founded',\n",
    "  founded_year INT GENERATED ALWAYS AS (YEAR(founded_date)),\n",
    "  country STRING)\n",
    "COMMENT 'this table contains info about tech companies'\n",
    "TBLPROPERTIES('sensitive'='true','delta.enableDeletionVectors'='false');"
   ]
  },
  {
   "cell_type": "code",
   "execution_count": 0,
   "metadata": {
    "application/vnd.databricks.v1+cell": {
     "cellMetadata": {
      "byteLimit": 2048000,
      "implicitDf": true,
      "rowLimit": 10000
     },
     "inputWidgets": {},
     "nuid": "b570d8ea-6eb7-4d87-aca2-2d8f7f0d3158",
     "showTitle": false,
     "tableResultSettingsMap": {},
     "title": ""
    }
   },
   "outputs": [],
   "source": [
    "%sql\n",
    "INSERT INTO demo.delta_lake.companies\n",
    "(company_name, founded_date, country)\n",
    "VALUES\n",
    "('Airbnb', '2008-08-08', 'USA'),\n",
    "('Dropbox', '2007-07-03', 'USA'),\n",
    "('Slack', '2006-02-24', 'USA'),\n",
    "('Zoom', '2011-03-12', 'USA');"
   ]
  },
  {
   "cell_type": "code",
   "execution_count": 0,
   "metadata": {
    "application/vnd.databricks.v1+cell": {
     "cellMetadata": {
      "byteLimit": 2048000,
      "implicitDf": true,
      "rowLimit": 10000
     },
     "inputWidgets": {},
     "nuid": "e84c5f66-8cc3-407c-9187-d2de739ff68c",
     "showTitle": false,
     "tableResultSettingsMap": {},
     "title": ""
    }
   },
   "outputs": [],
   "source": [
    "%sql\n",
    "SELECT * FROM demo.delta_lake.companies"
   ]
  },
  {
   "cell_type": "markdown",
   "metadata": {
    "application/vnd.databricks.v1+cell": {
     "cellMetadata": {},
     "inputWidgets": {},
     "nuid": "944d92a0-9eb0-4cf6-be26-96148478708a",
     "showTitle": false,
     "tableResultSettingsMap": {},
     "title": ""
    }
   },
   "source": []
  }
 ],
 "metadata": {
  "application/vnd.databricks.v1+notebook": {
   "computePreferences": null,
   "dashboards": [],
   "environmentMetadata": {
    "base_environment": "",
    "environment_version": "2"
   },
   "inputWidgetPreferences": null,
   "language": "python",
   "notebookMetadata": {
    "mostRecentlyExecutedCommandWithImplicitDF": {
     "commandId": 6538415709632685,
     "dataframes": [
      "_sqldf"
     ]
    },
    "pythonIndentUnit": 4
   },
   "notebookName": "03. Create Table - Table & Column Properities",
   "widgets": {}
  },
  "language_info": {
   "name": "python"
  }
 },
 "nbformat": 4,
 "nbformat_minor": 0
}
