{
 "cells": [
  {
   "cell_type": "markdown",
   "metadata": {
    "application/vnd.databricks.v1+cell": {
     "cellMetadata": {},
     "inputWidgets": {},
     "nuid": "584adcce-9e4a-4459-a5f2-d69095cbc284",
     "showTitle": false,
     "tableResultSettingsMap": {},
     "title": ""
    }
   },
   "source": [
    "###Insert Override\n",
    "1. replace all the data in table\n",
    "2. replace all data from specific pattern\n",
    "3. how to handle schema changes"
   ]
  },
  {
   "cell_type": "markdown",
   "metadata": {
    "application/vnd.databricks.v1+cell": {
     "cellMetadata": {},
     "inputWidgets": {},
     "nuid": "ae4a59d7-5620-4d8c-ad87-cf0c1848b2f8",
     "showTitle": false,
     "tableResultSettingsMap": {},
     "title": ""
    }
   },
   "source": [
    "- INSERT OVERWRITE - overwrites the existing data in a table or specific parition with new data\n",
    "- INSERT INTO - Appends new data"
   ]
  },
  {
   "cell_type": "markdown",
   "metadata": {
    "application/vnd.databricks.v1+cell": {
     "cellMetadata": {},
     "inputWidgets": {},
     "nuid": "c748f32c-f0ae-43fb-a927-42b79ffb649e",
     "showTitle": false,
     "tableResultSettingsMap": {},
     "title": ""
    }
   },
   "source": [
    "###1. Replace all Data in a table"
   ]
  },
  {
   "cell_type": "code",
   "execution_count": 0,
   "metadata": {
    "application/vnd.databricks.v1+cell": {
     "cellMetadata": {
      "byteLimit": 2048000,
      "implicitDf": true,
      "rowLimit": 10000
     },
     "inputWidgets": {},
     "nuid": "70b852d8-f010-4d7b-b8a6-8603e66e5de4",
     "showTitle": false,
     "tableResultSettingsMap": {},
     "title": ""
    }
   },
   "outputs": [],
   "source": [
    "%sql\n",
    "DROP TABLE IF EXISTS demo.delta_lake.gold_companies;\n",
    "\n",
    "CREATE TABLE demo.delta_lake.gold_companies\n",
    "(company_name STRING,\n",
    "founded_Date DATE,\n",
    "country STRING);\n",
    "\n",
    "INSERT INTO demo.delta_lake.gold_companies\n",
    "(company_name,founded_Date,country)\n",
    "VALUES(\"Apple\",\"1976-04-01\",\"USA\"),\n",
    "(\"tencent\",\"1998-11-11\",\"china\");"
   ]
  },
  {
   "cell_type": "code",
   "execution_count": 0,
   "metadata": {
    "application/vnd.databricks.v1+cell": {
     "cellMetadata": {
      "byteLimit": 2048000,
      "implicitDf": true,
      "rowLimit": 10000
     },
     "inputWidgets": {},
     "nuid": "307808fa-754c-453e-824f-a10b84ca8969",
     "showTitle": false,
     "tableResultSettingsMap": {},
     "title": ""
    }
   },
   "outputs": [],
   "source": [
    "%sql\n",
    "DROP TABLE IF EXISTS demo.delta_lake.bronze_companies;\n",
    "\n",
    "CREATE TABLE demo.delta_lake.bronze_companies\n",
    "(company_name STRING,\n",
    "founded_Date STRING,\n",
    "country STRING);\n",
    "\n",
    "INSERT INTO demo.delta_lake.bronze_companies\n",
    "(company_name,founded_Date,country)\n",
    "VALUES(\"google\",\"1998-09-04\",\"USA\"),\n",
    "(\"facebook\",\"2004-02-04\",\"USA\"),\n",
    "(\"amazon\", \"1994-05-15\",\"USA\"),\n",
    "(\"Alibaba\",\"1998-09-28\",\"china\");"
   ]
  },
  {
   "cell_type": "code",
   "execution_count": 0,
   "metadata": {
    "application/vnd.databricks.v1+cell": {
     "cellMetadata": {
      "byteLimit": 2048000,
      "implicitDf": true,
      "rowLimit": 10000
     },
     "inputWidgets": {},
     "nuid": "1e37983b-b6d0-4241-b111-6fa380ff52c4",
     "showTitle": false,
     "tableResultSettingsMap": {},
     "title": ""
    }
   },
   "outputs": [],
   "source": [
    "%sql\n",
    "INSERT OVERWRITE demo.delta_lake.gold_companies\n",
    "SELECT *\n",
    "FROM demo.delta_lake.bronze_companies;"
   ]
  },
  {
   "cell_type": "code",
   "execution_count": 0,
   "metadata": {
    "application/vnd.databricks.v1+cell": {
     "cellMetadata": {
      "byteLimit": 2048000,
      "implicitDf": true,
      "rowLimit": 10000
     },
     "inputWidgets": {},
     "nuid": "027c3d46-4e36-41d1-aa34-79b9c4225d43",
     "showTitle": false,
     "tableResultSettingsMap": {},
     "title": ""
    }
   },
   "outputs": [],
   "source": [
    "%sql\n",
    "SELECT * FROM demo.delta_lake.gold_companies;"
   ]
  },
  {
   "cell_type": "code",
   "execution_count": 0,
   "metadata": {
    "application/vnd.databricks.v1+cell": {
     "cellMetadata": {
      "byteLimit": 2048000,
      "implicitDf": true,
      "rowLimit": 10000
     },
     "inputWidgets": {},
     "nuid": "7300bcd6-fbed-455c-a675-25579effdf19",
     "showTitle": false,
     "tableResultSettingsMap": {},
     "title": ""
    }
   },
   "outputs": [],
   "source": [
    "%sql\n",
    "DESC HISTORY demo.delta_lake.gold_companies;"
   ]
  },
  {
   "cell_type": "markdown",
   "metadata": {
    "application/vnd.databricks.v1+cell": {
     "cellMetadata": {},
     "inputWidgets": {},
     "nuid": "cfda8230-fabc-41fa-bef3-f150e5b12280",
     "showTitle": false,
     "tableResultSettingsMap": {},
     "title": ""
    }
   },
   "source": [
    "###2. Replace all the data from a specific parition"
   ]
  },
  {
   "cell_type": "code",
   "execution_count": 0,
   "metadata": {
    "application/vnd.databricks.v1+cell": {
     "cellMetadata": {
      "byteLimit": 2048000,
      "implicitDf": true,
      "rowLimit": 10000
     },
     "inputWidgets": {},
     "nuid": "1d84192f-b4f3-4c3b-a81e-c3e542bfe1d0",
     "showTitle": false,
     "tableResultSettingsMap": {},
     "title": ""
    }
   },
   "outputs": [],
   "source": [
    "%sql\n",
    "DROP TABLE IF EXISTS demo.delta_lake.bronze_companies_paritioned;\n",
    "\n",
    "CREATE TABLE demo.delta_lake.bronze_companies_paritioned\n",
    "(company_name STRING,\n",
    "founded_Date DATE,\n",
    "country STRING)\n",
    "PARTITIONED BY (country);\n",
    "\n",
    "INSERT INTO demo.delta_lake.bronze_companies_paritioned\n",
    "(company_name,founded_Date,country)\n",
    "VALUES(\"Apple\",\"1976-04-01\",\"USA\"),\n",
    "(\"tencent\",\"1998-11-11\",\"china\");\n",
    "\n",
    "SELECT * FROM demo.delta_lake.bronze_companies_paritioned;"
   ]
  },
  {
   "cell_type": "code",
   "execution_count": 0,
   "metadata": {
    "application/vnd.databricks.v1+cell": {
     "cellMetadata": {
      "byteLimit": 2048000,
      "implicitDf": true,
      "rowLimit": 10000
     },
     "inputWidgets": {},
     "nuid": "b108e23e-aa49-4d2c-bafd-c73a3bc6f4d4",
     "showTitle": false,
     "tableResultSettingsMap": {},
     "title": ""
    }
   },
   "outputs": [],
   "source": [
    "%sql\n",
    "INSERT OVERWRITE TABLE demo.delta_lake.gold_companies_paritioned\n",
    "PARTITION (country = \"USA\")\n",
    "SELECT company_name,\n",
    "founded_Date\n",
    "FROM demo.delta_lake.bronze_companies;"
   ]
  },
  {
   "cell_type": "code",
   "execution_count": 0,
   "metadata": {
    "application/vnd.databricks.v1+cell": {
     "cellMetadata": {
      "byteLimit": 2048000,
      "implicitDf": true,
      "rowLimit": 10000
     },
     "inputWidgets": {},
     "nuid": "357ed27a-60fc-4b7f-8539-a98488f455c1",
     "showTitle": false,
     "tableResultSettingsMap": {},
     "title": ""
    }
   },
   "outputs": [],
   "source": [
    "%sql\n",
    "DESC EXTENDED demo.delta_lake.gold_companies_paritioned;"
   ]
  },
  {
   "cell_type": "code",
   "execution_count": 0,
   "metadata": {
    "application/vnd.databricks.v1+cell": {
     "cellMetadata": {
      "byteLimit": 2048000,
      "implicitDf": true,
      "rowLimit": 10000
     },
     "inputWidgets": {},
     "nuid": "aef8d716-f79a-44d6-96aa-4726677e8189",
     "showTitle": false,
     "tableResultSettingsMap": {},
     "title": ""
    }
   },
   "outputs": [],
   "source": [
    "%sql\n",
    "SELECT * FROM demo.delta_lake.gold_companies_paritioned"
   ]
  },
  {
   "cell_type": "code",
   "execution_count": 0,
   "metadata": {
    "application/vnd.databricks.v1+cell": {
     "cellMetadata": {},
     "inputWidgets": {},
     "nuid": "7c09be03-bc8e-422e-8f58-d0cc22daf7c7",
     "showTitle": false,
     "tableResultSettingsMap": {},
     "title": ""
    }
   },
   "outputs": [],
   "source": []
  }
 ],
 "metadata": {
  "application/vnd.databricks.v1+notebook": {
   "computePreferences": null,
   "dashboards": [],
   "environmentMetadata": {
    "base_environment": "",
    "environment_version": "2"
   },
   "inputWidgetPreferences": null,
   "language": "python",
   "notebookMetadata": {
    "mostRecentlyExecutedCommandWithImplicitDF": {
     "commandId": 6899671498195198,
     "dataframes": [
      "_sqldf"
     ]
    },
    "pythonIndentUnit": 4
   },
   "notebookName": "05. Insert Override",
   "widgets": {}
  },
  "language_info": {
   "name": "python"
  }
 },
 "nbformat": 4,
 "nbformat_minor": 0
}
