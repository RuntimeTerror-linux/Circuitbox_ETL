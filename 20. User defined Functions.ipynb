{
 "cells": [
  {
   "cell_type": "markdown",
   "metadata": {
    "application/vnd.databricks.v1+cell": {
     "cellMetadata": {},
     "inputWidgets": {},
     "nuid": "dc49c9ee-3b1e-49c3-a39a-84edcc6d1b09",
     "showTitle": false,
     "tableResultSettingsMap": {},
     "title": ""
    }
   },
   "source": [
    "#20. User Defined Functions\n",
    "syntax - \n",
    "CREATE FUNCTION catalog_name.schema_name.udf_name(pena_name datatype)\n",
    "RETURNS return_type\n",
    "RETURN expressions;"
   ]
  },
  {
   "cell_type": "code",
   "execution_count": 0,
   "metadata": {
    "application/vnd.databricks.v1+cell": {
     "cellMetadata": {
      "byteLimit": 2048000,
      "implicitDf": true,
      "rowLimit": 10000
     },
     "inputWidgets": {},
     "nuid": "9292ede0-0b07-4527-a25b-d1d5612f8204",
     "showTitle": false,
     "tableResultSettingsMap": {},
     "title": ""
    }
   },
   "outputs": [],
   "source": [
    "%sql\n",
    "CREATE OR REPLACE FUNCTION shoppix.default.get_full(firstname STRING, surname STRING)\n",
    "RETURNS STRING\n",
    "RETURN concat(initcap(firstname), ' ', initcap(surname))"
   ]
  },
  {
   "cell_type": "code",
   "execution_count": 0,
   "metadata": {
    "application/vnd.databricks.v1+cell": {
     "cellMetadata": {},
     "inputWidgets": {},
     "nuid": "26ad9c07-3b6c-4eb0-a1f8-f3f48548ac24",
     "showTitle": false,
     "tableResultSettingsMap": {},
     "title": ""
    }
   },
   "outputs": [],
   "source": []
  },
  {
   "cell_type": "code",
   "execution_count": 0,
   "metadata": {
    "application/vnd.databricks.v1+cell": {
     "cellMetadata": {
      "byteLimit": 2048000,
      "implicitDf": true,
      "rowLimit": 10000
     },
     "inputWidgets": {},
     "nuid": "b979a97f-0d64-40a9-a173-7b52613877ce",
     "showTitle": false,
     "tableResultSettingsMap": {},
     "title": ""
    }
   },
   "outputs": [],
   "source": [
    "%sql\n",
    "CREATE OR REPLACE FUNCTION shoppix.default.get_payment_status(payment_status INT)\n",
    "RETURNS STRING\n",
    "RETURN CASE payment_status\n",
    "WHEN 1 THEN 'Success'\n",
    "WHEN 2 THEN 'pending'\n",
    "WHEN 3 THEN 'cancelled'\n",
    "WHEN 4 THEN 'failed'\n",
    "END;"
   ]
  },
  {
   "cell_type": "code",
   "execution_count": 0,
   "metadata": {
    "application/vnd.databricks.v1+cell": {
     "cellMetadata": {
      "byteLimit": 2048000,
      "implicitDf": true,
      "rowLimit": 10000
     },
     "inputWidgets": {},
     "nuid": "f254e0dd-2dfe-41b2-86eb-3b73079ccabc",
     "showTitle": false,
     "tableResultSettingsMap": {},
     "title": ""
    }
   },
   "outputs": [],
   "source": [
    "%sql\n",
    "SELECT payment_id,\n",
    "       order_id,\n",
    "       shoppix.default.get_payment_status(payment_status) AS payment_status,\n",
    "       CAST(date_format(payment_timestamp,'yyyy-MM-dd') AS DATE) AS date,\n",
    "       date_format(payment_timestamp,'HH:MM:ss') AS time,\n",
    "       payment_method\n",
    "  FROM shoppix.bronze.payments"
   ]
  }
 ],
 "metadata": {
  "application/vnd.databricks.v1+notebook": {
   "computePreferences": null,
   "dashboards": [],
   "environmentMetadata": {
    "base_environment": "",
    "environment_version": "2"
   },
   "inputWidgetPreferences": null,
   "language": "python",
   "notebookMetadata": {
    "mostRecentlyExecutedCommandWithImplicitDF": {
     "commandId": 7788784760154407,
     "dataframes": [
      "_sqldf"
     ]
    },
    "pythonIndentUnit": 4
   },
   "notebookName": "20. User defined Functions",
   "widgets": {}
  },
  "language_info": {
   "name": "python"
  }
 },
 "nbformat": 4,
 "nbformat_minor": 0
}
