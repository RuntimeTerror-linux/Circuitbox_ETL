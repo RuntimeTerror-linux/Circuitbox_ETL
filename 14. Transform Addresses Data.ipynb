{
 "cells": [
  {
   "cell_type": "markdown",
   "metadata": {
    "application/vnd.databricks.v1+cell": {
     "cellMetadata": {},
     "inputWidgets": {},
     "nuid": "89fc36e3-244d-4675-a843-d69ee27e7e37",
     "showTitle": false,
     "tableResultSettingsMap": {},
     "title": ""
    }
   },
   "source": [
    "###14. Transform Addresses Data\n",
    "1. create one record for customer with 2 sets of address columns, 1 for shipping,1 for billing\n",
    "2. write transformed data to silver schema"
   ]
  },
  {
   "cell_type": "markdown",
   "metadata": {
    "application/vnd.databricks.v1+cell": {
     "cellMetadata": {},
     "inputWidgets": {},
     "nuid": "9e4373ca-66a1-4b27-9039-78f431bd1661",
     "showTitle": false,
     "tableResultSettingsMap": {},
     "title": ""
    }
   },
   "source": [
    "###1. Create one record for customer with 2 sets of address columns, 1 for shipping, 1 for billing"
   ]
  },
  {
   "cell_type": "code",
   "execution_count": 0,
   "metadata": {
    "application/vnd.databricks.v1+cell": {
     "cellMetadata": {
      "byteLimit": 2048000,
      "implicitDf": true,
      "rowLimit": 10000
     },
     "inputWidgets": {},
     "nuid": "e5dc0469-495a-492f-a48c-5b61e21c9a31",
     "showTitle": false,
     "tableResultSettingsMap": {},
     "title": ""
    }
   },
   "outputs": [],
   "source": [
    "%sql\n",
    "SELECT * FROM shoppix.bronze.v_addresses"
   ]
  },
  {
   "cell_type": "code",
   "execution_count": 0,
   "metadata": {
    "application/vnd.databricks.v1+cell": {
     "cellMetadata": {
      "byteLimit": 2048000,
      "implicitDf": true,
      "rowLimit": 10000
     },
     "inputWidgets": {},
     "nuid": "6ae6d9e3-748c-4fcd-bec9-4e97c0da7db9",
     "showTitle": false,
     "tableResultSettingsMap": {},
     "title": ""
    }
   },
   "outputs": [],
   "source": [
    "%sql\n",
    "SELECT *\n",
    "FROM (SELECT customer_id,\n",
    "             address_type,\n",
    "             address_line_1,\n",
    "             city,\n",
    "             state,\n",
    "             postcode\n",
    "        FROM shoppix.bronze.v_addresses)\n",
    "PIVOT(MAX(address_line_1) AS address_line_1,\n",
    "      MAX(city) AS city,\n",
    "      MAX(state) AS state,\n",
    "      MAX(postcode) AS postcode\n",
    "      FOR address_type IN ('shipping', 'billing')\n",
    "\n",
    "\n",
    ");"
   ]
  },
  {
   "cell_type": "markdown",
   "metadata": {
    "application/vnd.databricks.v1+cell": {
     "cellMetadata": {},
     "inputWidgets": {},
     "nuid": "8dd5f47a-81ca-4a31-ac0f-3f418abd91d2",
     "showTitle": false,
     "tableResultSettingsMap": {},
     "title": ""
    }
   },
   "source": [
    "###2. Write transformed data to silver schema"
   ]
  },
  {
   "cell_type": "code",
   "execution_count": 0,
   "metadata": {
    "application/vnd.databricks.v1+cell": {
     "cellMetadata": {
      "byteLimit": 2048000,
      "implicitDf": true,
      "rowLimit": 10000
     },
     "inputWidgets": {},
     "nuid": "2c77d171-dfd7-4a48-8502-3e60e0cbb95a",
     "showTitle": false,
     "tableResultSettingsMap": {},
     "title": ""
    }
   },
   "outputs": [],
   "source": [
    "%sql\n",
    "CREATE TABLE shoppix.silver.addresses\n",
    "AS\n",
    "SELECT *\n",
    "FROM (SELECT customer_id,\n",
    "             address_type,\n",
    "             address_line_1,\n",
    "             city,\n",
    "             state,\n",
    "             postcode\n",
    "        FROM shoppix.bronze.v_addresses)\n",
    "PIVOT(MAX(address_line_1) AS address_line_1,\n",
    "      MAX(city) AS city,\n",
    "      MAX(state) AS state,\n",
    "      MAX(postcode) AS postcode\n",
    "      FOR address_type IN ('shipping', 'billing')\n",
    "  );"
   ]
  }
 ],
 "metadata": {
  "application/vnd.databricks.v1+notebook": {
   "computePreferences": null,
   "dashboards": [],
   "environmentMetadata": {
    "base_environment": "",
    "environment_version": "2"
   },
   "inputWidgetPreferences": null,
   "language": "python",
   "notebookMetadata": {
    "mostRecentlyExecutedCommandWithImplicitDF": {
     "commandId": 6539964598842703,
     "dataframes": [
      "_sqldf"
     ]
    },
    "pythonIndentUnit": 4
   },
   "notebookName": "14. Transform Addresses Data",
   "widgets": {}
  },
  "language_info": {
   "name": "python"
  }
 },
 "nbformat": 4,
 "nbformat_minor": 0
}
